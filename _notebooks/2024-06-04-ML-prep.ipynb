{
 "cells": [
  {
   "cell_type": "markdown",
   "metadata": {},
   "source": [
    "Overview of https://course.fast.ai/Lessons/lesson6.html \n",
    "\n",
    "1. Random Forest is hard to mess up. Fits fast, more trees -> more accuracy. Feature importance plot. OOB - Out of Bag tree error in small dataset without validation. \n",
    "2. Gradient Boosting (machine or descision tree). Can overfit. Very small trees, sum prediction, not average. Many hyperparametes"
   ]
  },
  {
   "cell_type": "markdown",
   "metadata": {},
   "source": [
    "import random"
   ]
  },
  {
   "cell_type": "code",
   "execution_count": null,
   "metadata": {},
   "outputs": [],
   "source": []
  }
 ],
 "metadata": {
  "kernelspec": {
   "display_name": "Python 3",
   "language": "python",
   "name": "python3"
  },
  "language_info": {
   "codemirror_mode": {
    "name": "ipython",
    "version": 3
   },
   "file_extension": ".py",
   "mimetype": "text/x-python",
   "name": "python",
   "nbconvert_exporter": "python",
   "pygments_lexer": "ipython3",
   "version": "3.9.6"
  }
 },
 "nbformat": 4,
 "nbformat_minor": 2
}
